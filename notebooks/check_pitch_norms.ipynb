{
 "cells": [
  {
   "cell_type": "code",
   "id": "initial_id",
   "metadata": {
    "collapsed": true,
    "ExecuteTime": {
     "end_time": "2024-12-09T03:51:17.229312Z",
     "start_time": "2024-12-09T03:51:17.174055Z"
    }
   },
   "source": [
    "from pathlib import Path\n",
    "\n",
    "import numpy as np\n",
    "\n",
    "pitches_path = Path(\"../data/LJSpeech-1.1/preprocessed/pitch\")\n",
    "p_file = np.load(list(pitches_path.iterdir())[0])"
   ],
   "outputs": [],
   "execution_count": 2
  },
  {
   "metadata": {
    "ExecuteTime": {
     "end_time": "2024-12-09T03:53:21.638503Z",
     "start_time": "2024-12-09T03:53:20.384694Z"
    }
   },
   "cell_type": "code",
   "source": [
    "all_p = np.concat([np.load(f) for f in pitches_path.iterdir()])\n",
    "all_p.shape"
   ],
   "id": "534d81c851431f4e",
   "outputs": [
    {
     "data": {
      "text/plain": [
       "(917525,)"
      ]
     },
     "execution_count": 4,
     "metadata": {},
     "output_type": "execute_result"
    }
   ],
   "execution_count": 4
  },
  {
   "metadata": {
    "ExecuteTime": {
     "end_time": "2024-12-09T03:53:47.347201Z",
     "start_time": "2024-12-09T03:53:47.328262Z"
    }
   },
   "cell_type": "code",
   "source": "all_p.mean(), all_p.std()",
   "id": "4309fe9970de3c73",
   "outputs": [
    {
     "data": {
      "text/plain": [
       "(np.float64(0.06270181007075872), np.float64(1.0981420118907401))"
      ]
     },
     "execution_count": 7,
     "metadata": {},
     "output_type": "execute_result"
    }
   ],
   "execution_count": 7
  }
 ],
 "metadata": {
  "kernelspec": {
   "display_name": "Python 3",
   "language": "python",
   "name": "python3"
  },
  "language_info": {
   "codemirror_mode": {
    "name": "ipython",
    "version": 2
   },
   "file_extension": ".py",
   "mimetype": "text/x-python",
   "name": "python",
   "nbconvert_exporter": "python",
   "pygments_lexer": "ipython2",
   "version": "2.7.6"
  }
 },
 "nbformat": 4,
 "nbformat_minor": 5
}
